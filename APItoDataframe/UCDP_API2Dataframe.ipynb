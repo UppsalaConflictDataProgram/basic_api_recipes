{
 "cells": [
  {
   "cell_type": "code",
   "execution_count": null,
   "id": "66a0cb6a",
   "metadata": {},
   "outputs": [],
   "source": [
    "import requests\n",
    "import pandas as pd\n",
    "\n",
    "api_url = 'https://ucdpapi.pcr.uu.se/api/gedevents/23.1'\n",
    "params = {\n",
    "    'pagesize': 1000,\n",
    "    'page': 0\n",
    "}\n",
    "\n",
    "# Send request to API to get the first page\n",
    "response = requests.get(api_url, params=params)\n",
    "\n",
    "# Check if request was successful\n",
    "if response.status_code == 200:\n",
    "    json_data = response.json()\n",
    "    \n",
    "    # Get the total number of pages\n",
    "    total_pages = json_data['TotalPages']\n",
    "    \n",
    "    # Extract the 'Result' array from the JSON response\n",
    "    data = json_data['Result']\n",
    "\n",
    "    # Convert JSON data to a pandas dataframe\n",
    "    df = pd.DataFrame(data)\n",
    "\n",
    "    # Iterate through the rest of the pages and append data to the DataFrame\n",
    "    for page in range(1, total_pages + 1):\n",
    "        params['page'] = page\n",
    "        response = requests.get(api_url, params=params)\n",
    "        json_data = response.json()\n",
    "        data = json_data['Result']\n",
    "        temp_df = pd.DataFrame(data)\n",
    "        df = pd.concat([df, temp_df], ignore_index=True)\n",
    "        \n",
    "        # Print progress\n",
    "        print(f\"Page {page} of {total_pages} fetched\")\n",
    "\n",
    "    # Save the DataFrame to a CSV file\n",
    "    df.to_csv('ucdp_api_to_dataframe.csv', index=False)\n",
    "\n",
    "    # Display the dataframe\n",
    "    print(df)\n",
    "else:\n",
    "    print(f\"Error: {response.status_code}. {response.text}\")"
   ]
  }
 ],
 "metadata": {
  "kernelspec": {
   "display_name": "Python 3 (ipykernel)",
   "language": "python",
   "name": "python3"
  },
  "language_info": {
   "codemirror_mode": {
    "name": "ipython",
    "version": 3
   },
   "file_extension": ".py",
   "mimetype": "text/x-python",
   "name": "python",
   "nbconvert_exporter": "python",
   "pygments_lexer": "ipython3",
   "version": "3.9.13"
  }
 },
 "nbformat": 4,
 "nbformat_minor": 5
}
